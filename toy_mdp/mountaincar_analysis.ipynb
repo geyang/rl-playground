{
 "cells": [
  {
   "cell_type": "code",
   "execution_count": 3,
   "metadata": {},
   "outputs": [],
   "source": [
    "import gym\n",
    "import torch\n",
    "\n",
    "# state=[pos, vel]. pos is in (-1.2, 0.6) and vel is in (-0.07, 0.07)\n",
    "env = gym.make('MountainCar-v0')\n",
    "\n",
    "gamma = 0.995\n",
    "\n",
    "def dynamics(state, action):\n",
    "    min_position = -1.2\n",
    "    max_position = 0.6\n",
    "    max_speed = 0.07\n",
    "    goal_pos = 0.5\n",
    "    goal_vel = 0\n",
    "    force = 0.001\n",
    "    gravity = 0.0025\n",
    "    \n",
    "    position, velocity = state\n",
    "    velocity += (action - 1) * force + math.cos(3 * position) * (-gravity)\n",
    "        velocity = np.clip(velocity, -max_speed, max_speed)\n",
    "        position += velocity\n",
    "        position = np.clip(position, min_position, max_position)\n",
    "        if position == min_position and velocity < 0:\n",
    "            velocity = 0\n",
    "\n",
    "        done = bool(position >= self.goal_position and velocity >= self.goal_velocity)\n",
    "        reward = \n",
    "\n",
    "        self.state = (position, velocity)\n",
    "        return np.array(self.state), reward, done, {}"
   ]
  },
  {
   "cell_type": "code",
   "execution_count": null,
   "metadata": {},
   "outputs": [],
   "source": []
  }
 ],
 "metadata": {
  "kernelspec": {
   "display_name": "Python 3",
   "language": "python",
   "name": "python3"
  },
  "language_info": {
   "codemirror_mode": {
    "name": "ipython",
    "version": 3
   },
   "file_extension": ".py",
   "mimetype": "text/x-python",
   "name": "python",
   "nbconvert_exporter": "python",
   "pygments_lexer": "ipython3",
   "version": "3.7.3"
  }
 },
 "nbformat": 4,
 "nbformat_minor": 2
}
